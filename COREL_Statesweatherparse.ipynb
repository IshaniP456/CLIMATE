{
  "nbformat": 4,
  "nbformat_minor": 0,
  "metadata": {
    "colab": {
      "provenance": []
    },
    "kernelspec": {
      "name": "python3",
      "display_name": "Python 3"
    },
    "language_info": {
      "name": "python"
    }
  },
  "cells": [
    {
      "cell_type": "code",
      "execution_count": 224,
      "metadata": {
        "colab": {
          "base_uri": "https://localhost:8080/"
        },
        "id": "tAX5jMLFzXh6",
        "outputId": "60e8cea6-3292-4f86-b975-a41eb79cc63b"
      },
      "outputs": [
        {
          "output_type": "stream",
          "name": "stdout",
          "text": [
            "Drive already mounted at /content/drive; to attempt to forcibly remount, call drive.mount(\"/content/drive\", force_remount=True).\n",
            "/content/drive/MyDrive/2_WEATHER\n",
            "CO_out.csv  CO_wwa_201401010000_202212310000.csv  SD_wwa_201401010000_202212310000.csv\ttest.csv\n"
          ]
        }
      ],
      "source": [
        "# prompt: load files from drive\n",
        "\n",
        "from google.colab import drive\n",
        "drive.mount('/content/drive')\n",
        "#change weather folder to correct folder for the state\n",
        "%cd /content/drive/MyDrive/2_WEATHER\n",
        "!ls"
      ]
    },
    {
      "cell_type": "code",
      "source": [
        "import pandas as pd\n",
        "#change file name for each state\n",
        "df = pd.read_csv('SD_wwa_201401010000_202212310000.csv',usecols=['ISSUED', 'EXPIRED', 'SIG', 'PHENOM'])\n",
        "df=df.loc[df['SIG'] == 'W']\n",
        "#change PHENOM for each Pheno. Comment out below line if finding total corelation\n",
        "#df=df.loc[df['PHENOM'] == 'EH']\n",
        "#df=df.loc[df['PHENOM'] == 'SV']\n",
        "#df=df.loc[df['PHENOM'] == 'FF']\n",
        "#df=df.loc[df['PHENOM'] == 'TO']\n",
        "#df=df.loc[df['PHENOM'] == 'FW']\n",
        "#df=df.loc[df['PHENOM'] == 'FL']\n",
        "#df=df.loc[df['PHENOM'] == 'FZ']\n",
        "df=df.loc[df['PHENOM'] == 'FA']\n",
        "\n",
        "df['num_days'] = (pd.to_datetime(df['EXPIRED']) - pd.to_datetime((df['ISSUED']))).dt.days + 1\n",
        "\n",
        "example = df.groupby(pd.to_datetime(df['ISSUED']).dt.year)\n",
        "final_result = example.count()\n",
        "final_result['TOTAL_DAYS'] = example.sum()['num_days']\n",
        "final_result['average_duration'] = final_result['TOTAL_DAYS'] / final_result['ISSUED']\n",
        "df2 = pd.read_csv('/content/drive/MyDrive/WEATHER/MASTER-data-table-2014-2022_cleaned.csv', usecols = ['YEAR', 'STATE', 'HOMICIDE RATE', 'DEATHS'])\n",
        "#change state name to match file\n",
        "df2=df2.loc[df2['STATE'] == 'SD']\n",
        "final_result.rename(columns={ final_result.columns[0]: \"count_ISSUED\" }, inplace = True)\n",
        "\n",
        "#COVID\n",
        "#df2.drop(df2[df2['YEAR'] == '2020'].index)\n",
        "#final_result.drop(final_result[final_result['ISSUED'] == '2020'].index)\n",
        "\n",
        "f = final_result.join(df2.set_index('YEAR'), on='ISSUED')\n"
      ],
      "metadata": {
        "id": "rlm0Iz_i087K"
      },
      "execution_count": 225,
      "outputs": []
    },
    {
      "cell_type": "code",
      "source": [
        "f['HOMICIDE RATE'].corr(f['TOTAL_DAYS'])"
      ],
      "metadata": {
        "colab": {
          "base_uri": "https://localhost:8080/"
        },
        "id": "CPbJRW8f-89q",
        "outputId": "7c514a72-b5a1-4f17-b431-a00186166538"
      },
      "execution_count": 226,
      "outputs": [
        {
          "output_type": "execute_result",
          "data": {
            "text/plain": [
              "-0.4678109607369383"
            ]
          },
          "metadata": {},
          "execution_count": 226
        }
      ]
    },
    {
      "cell_type": "code",
      "source": [
        "f['HOMICIDE RATE'].corr(f['count_ISSUED'])"
      ],
      "metadata": {
        "colab": {
          "base_uri": "https://localhost:8080/"
        },
        "id": "p1zu5BZx9xPK",
        "outputId": "1190ceb3-bb33-4999-d441-9f43b4394178"
      },
      "execution_count": 227,
      "outputs": [
        {
          "output_type": "execute_result",
          "data": {
            "text/plain": [
              "-0.4504349913247523"
            ]
          },
          "metadata": {},
          "execution_count": 227
        }
      ]
    },
    {
      "cell_type": "code",
      "source": [
        "f['HOMICIDE RATE'].corr(f['average_duration'])"
      ],
      "metadata": {
        "colab": {
          "base_uri": "https://localhost:8080/"
        },
        "id": "nW2zg0cz_CrU",
        "outputId": "9f2c3077-d7eb-44a4-b2f9-682a2188614f"
      },
      "execution_count": 228,
      "outputs": [
        {
          "output_type": "execute_result",
          "data": {
            "text/plain": [
              "-0.6981267076100999"
            ]
          },
          "metadata": {},
          "execution_count": 228
        }
      ]
    },
    {
      "cell_type": "code",
      "source": [
        "from scipy.stats import pearsonr\n"
      ],
      "metadata": {
        "id": "-s8Pt-x7_2ap"
      },
      "execution_count": 229,
      "outputs": []
    },
    {
      "cell_type": "code",
      "source": [
        "pearsonr(f['HOMICIDE RATE'], f['count_ISSUED'])"
      ],
      "metadata": {
        "colab": {
          "base_uri": "https://localhost:8080/"
        },
        "id": "bVS7_S2t_46-",
        "outputId": "6c593ca4-991b-4397-c465-85ab7b2f69e4"
      },
      "execution_count": 230,
      "outputs": [
        {
          "output_type": "execute_result",
          "data": {
            "text/plain": [
              "PearsonRResult(statistic=-0.4504349913247524, pvalue=0.2237131041967222)"
            ]
          },
          "metadata": {},
          "execution_count": 230
        }
      ]
    },
    {
      "cell_type": "code",
      "source": [
        "pearsonr(f['HOMICIDE RATE'], f['TOTAL_DAYS'])"
      ],
      "metadata": {
        "colab": {
          "base_uri": "https://localhost:8080/"
        },
        "id": "5hLkTpA8AEf4",
        "outputId": "55874986-d0dd-426f-ff1c-0eabfd821e02"
      },
      "execution_count": 231,
      "outputs": [
        {
          "output_type": "execute_result",
          "data": {
            "text/plain": [
              "PearsonRResult(statistic=-0.4678109607369383, pvalue=0.20412698736475487)"
            ]
          },
          "metadata": {},
          "execution_count": 231
        }
      ]
    },
    {
      "cell_type": "code",
      "source": [
        "pearsonr(f['HOMICIDE RATE'], f['average_duration'])"
      ],
      "metadata": {
        "colab": {
          "base_uri": "https://localhost:8080/"
        },
        "id": "_cVX83m1AJwJ",
        "outputId": "6e502cbc-6006-47b8-d90c-509ac6b05575"
      },
      "execution_count": 232,
      "outputs": [
        {
          "output_type": "execute_result",
          "data": {
            "text/plain": [
              "PearsonRResult(statistic=-0.6981267076100999, pvalue=0.03648300018323236)"
            ]
          },
          "metadata": {},
          "execution_count": 232
        }
      ]
    },
    {
      "cell_type": "code",
      "source": [
        "print(final_result.columns.tolist())"
      ],
      "metadata": {
        "id": "5Mg75FaF-iua",
        "colab": {
          "base_uri": "https://localhost:8080/"
        },
        "outputId": "1382dc01-fa38-4eb2-d5a1-7f8826827f34"
      },
      "execution_count": 233,
      "outputs": [
        {
          "output_type": "stream",
          "name": "stdout",
          "text": [
            "['count_ISSUED', 'EXPIRED', 'PHENOM', 'SIG', 'num_days', 'TOTAL_DAYS', 'average_duration']\n"
          ]
        }
      ]
    },
    {
      "cell_type": "code",
      "source": [
        "print(df)\n",
        "print(final_result)"
      ],
      "metadata": {
        "colab": {
          "base_uri": "https://localhost:8080/"
        },
        "id": "oQZmbfJCN0-t",
        "outputId": "efd6fe36-cfb7-4f31-c628-a6a35ea3e82b"
      },
      "execution_count": 234,
      "outputs": [
        {
          "output_type": "stream",
          "name": "stdout",
          "text": [
            "                 ISSUED           EXPIRED PHENOM SIG  num_days\n",
            "0      2018-05-19 16:01  2018-05-19 21:45     FA   W         1\n",
            "60     2018-05-30 00:15  2018-05-31 00:15     FA   W         2\n",
            "62     2019-08-11 02:02  2019-08-11 08:00     FA   W         1\n",
            "112    2018-04-12 21:18  2018-04-14 21:15     FA   W         2\n",
            "139    2019-03-25 16:49  2019-03-27 04:45     FA   W         2\n",
            "...                 ...               ...    ...  ..       ...\n",
            "68767  2022-07-07 17:55  2022-07-08 05:45     FA   W         1\n",
            "68978  2022-08-06 06:28  2022-08-06 15:30     FA   W         1\n",
            "68979  2022-08-06 06:28  2022-08-06 15:30     FA   W         1\n",
            "68980  2022-08-06 06:34  2022-08-06 12:30     FA   W         1\n",
            "68981  2022-08-06 06:34  2022-08-06 12:30     FA   W         1\n",
            "\n",
            "[972 rows x 5 columns]\n",
            "        count_ISSUED  EXPIRED  PHENOM  SIG  num_days  TOTAL_DAYS  \\\n",
            "ISSUED                                                             \n",
            "2014              69       69      69   69        69         113   \n",
            "2015             149      149     149  149       149         250   \n",
            "2016              34       34      34   34        34          36   \n",
            "2017              13       13      13   13        13          16   \n",
            "2018             165      165     165  165       165         203   \n",
            "2019             425      425     425  425       425         686   \n",
            "2020              44       44      44   44        44          53   \n",
            "2021              28       28      28   28        28          28   \n",
            "2022              45       45      45   45        45          45   \n",
            "\n",
            "        average_duration  \n",
            "ISSUED                    \n",
            "2014            1.637681  \n",
            "2015            1.677852  \n",
            "2016            1.058824  \n",
            "2017            1.230769  \n",
            "2018            1.230303  \n",
            "2019            1.614118  \n",
            "2020            1.204545  \n",
            "2021            1.000000  \n",
            "2022            1.000000  \n"
          ]
        }
      ]
    },
    {
      "cell_type": "code",
      "source": [
        "df = pd.read_csv('CO_wwa_201401010000_202212310000.csv',usecols=['ISSUED', 'EXPIRED', 'SIG', 'PHENOM'])\n",
        "df=df.loc[df['SIG'] == 'W']\n",
        "#change PHENOM for each Pheno. Comment out below line if finding total corelation\n",
        "df=df.loc[df['PHENOM'] == 'EH']\n",
        "#df=df.loc[df['PHENOM'] == 'FF']\n",
        "#df=df.loc[df['PHENOM'] == 'TO']\n",
        "#df=df.loc[df['PHENOM'] == 'SV']\n",
        "df['num_days'] = (pd.to_datetime(df['EXPIRED']) - pd.to_datetime((df['ISSUED']))).dt.days\n",
        "\n",
        "df2 = len(df['num_days'] < -1 )\n",
        "print(\"Num of rows where num_days < 0 is \", df2)\n",
        "print(df)\n",
        "df.to_csv('test.csv')"
      ],
      "metadata": {
        "colab": {
          "base_uri": "https://localhost:8080/"
        },
        "id": "xXczCjhYHzQq",
        "outputId": "eea8c028-4472-4082-ebc6-b10c0c9200ca"
      },
      "execution_count": 235,
      "outputs": [
        {
          "output_type": "stream",
          "name": "stdout",
          "text": [
            "Num of rows where num_days < 0 is  2\n",
            "                 ISSUED           EXPIRED PHENOM SIG  num_days\n",
            "49735  2021-06-14 18:00  2021-06-18 22:10     EH   W         4\n",
            "49836  2021-06-14 18:00  2021-06-18 22:10     EH   W         4\n"
          ]
        }
      ]
    }
  ]
}