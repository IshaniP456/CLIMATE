{
  "nbformat": 4,
  "nbformat_minor": 0,
  "metadata": {
    "colab": {
      "provenance": []
    },
    "kernelspec": {
      "name": "python3",
      "display_name": "Python 3"
    },
    "language_info": {
      "name": "python"
    }
  },
  "cells": [
    {
      "cell_type": "code",
      "execution_count": 1,
      "metadata": {
        "colab": {
          "base_uri": "https://localhost:8080/"
        },
        "id": "tAX5jMLFzXh6",
        "outputId": "46c50818-3226-4485-da0d-217d0f874e69"
      },
      "outputs": [
        {
          "output_type": "stream",
          "name": "stdout",
          "text": [
            "Mounted at /content/drive\n",
            "/content/drive/MyDrive/2_WEATHER\n",
            "CA_wwa_201401010000_202212310000.csv  NC_wwa_201401010000_202212310000.csv\n",
            "CO_out.csv\t\t\t      NE_wwa_201401010000_202212310000.csv\n",
            "CO_wwa_201401010000_202212310000.csv  NV_wwa_201401010000_202212310000.csv\n",
            "CT_wwa_201401010000_202212310000.csv  NY_wwa_201401010000_202212310000.csv\n",
            "DE_wwa_201401010000_202212310000.csv  OH_wwa_201401010000_202212310000.csv\n",
            "FL_wwa_201401010000_202212310000.csv  OK_wwa_201401010000_202212310000.csv\n",
            "HI_wwa_201401010000_202212310000.csv  OR_wwa_201401010000_202212310000.csv\n",
            "IA_wwa_201401010000_202212310000.csv  PA_wwa_201401010000_202212310000.csv\n",
            "ID_wwa_201401010000_202212310000.csv  SD_wwa_201401010000_202212310000.csv\n",
            "IN_wwa_201401010000_202212310000.csv  test.csv\n",
            "KS_wwa_201401010000_202212310000.csv  TX_wwa_201401010000_202212310000.csv\n",
            "KY_wwa_201401010000_202212310000.csv  UT_wwa_201401010000_202212310000.csv\n",
            "MA_wwa_201401010000_202212310000.csv  VA_wwa_201401010000_202212310000.csv\n",
            "ME_wwa_201401010000_202212310000.csv  WA_wwa_201401010000_202212310000.csv\n",
            "MI_wwa_201401010000_202212310000.csv  WI_wwa_201401010000_202212310000.csv\n",
            "MN_wwa_201401010000_202212310000.csv  WV_wwa_201401010000_202212310000.csv\n",
            "MT_wwa_201401010000_202212310000.csv\n"
          ]
        }
      ],
      "source": [
        "# prompt: load files from drive\n",
        "\n",
        "from google.colab import drive\n",
        "drive.mount('/content/drive')\n",
        "#change weather folder to correct folder for the state\n",
        "%cd /content/drive/MyDrive/2_WEATHER\n",
        "!ls"
      ]
    },
    {
      "cell_type": "code",
      "source": [
        "import pandas as pd\n",
        "#change file name for each state\n",
        "df = pd.read_csv('HI_wwa_201401010000_202212310000.csv',usecols=['ISSUED', 'EXPIRED', 'SIG', 'PHENOM'])\n",
        "df=df.loc[df['SIG'] == 'W']\n",
        "#change PHENOM for each Pheno. Comment out below line if finding total corelation\n",
        "#df=df.loc[df['PHENOM'] == 'EH']\n",
        "df=df.loc[df['PHENOM'] == 'SV']\n",
        "#df=df.loc[df['PHENOM'] == 'FF']\n",
        "#df=df.loc[df['PHENOM'] == 'TO']\n",
        "#df=df.loc[df['PHENOM'] == 'FW']\n",
        "#df=df.loc[df['PHENOM'] == 'FL']\n",
        "#df=df.loc[df['PHENOM'] == 'FZ']\n",
        "#df=df.loc[df['PHENOM'] == 'FA']\n",
        "\n",
        "df['num_days'] = (pd.to_datetime(df['EXPIRED']) - pd.to_datetime((df['ISSUED']))).dt.days + 1\n",
        "\n",
        "example = df.groupby(pd.to_datetime(df['ISSUED']).dt.year)\n",
        "final_result = example.count()\n",
        "final_result['TOTAL_DAYS'] = example.sum()['num_days']\n",
        "final_result['average_duration'] = final_result['TOTAL_DAYS'] / final_result['ISSUED']\n",
        "df2 = pd.read_csv('/content/drive/MyDrive/WEATHER/MASTER-data-table-2014-2022_cleaned.csv', usecols = ['YEAR', 'STATE', 'HOMICIDE RATE', 'DEATHS'])\n",
        "#change state name to match file\n",
        "df2=df2.loc[df2['STATE'] == 'HI']\n",
        "final_result.rename(columns={ final_result.columns[0]: \"count_ISSUED\" }, inplace = True)\n",
        "\n",
        "#COVID\n",
        "#df2.drop(df2[df2['YEAR'] == '2020'].index)\n",
        "#final_result.drop(final_result[final_result['ISSUED'] == '2020'].index)\n",
        "\n",
        "f = final_result.join(df2.set_index('YEAR'), on='ISSUED')\n"
      ],
      "metadata": {
        "id": "rlm0Iz_i087K"
      },
      "execution_count": 2,
      "outputs": []
    },
    {
      "cell_type": "code",
      "source": [
        "f['HOMICIDE RATE'].corr(f['TOTAL_DAYS'])"
      ],
      "metadata": {
        "colab": {
          "base_uri": "https://localhost:8080/"
        },
        "id": "CPbJRW8f-89q",
        "outputId": "7007a536-aff1-4434-d0be-cfcee6e2908f"
      },
      "execution_count": 3,
      "outputs": [
        {
          "output_type": "execute_result",
          "data": {
            "text/plain": [
              "0.8754714119924035"
            ]
          },
          "metadata": {},
          "execution_count": 3
        }
      ]
    },
    {
      "cell_type": "code",
      "source": [
        "f['HOMICIDE RATE'].corr(f['count_ISSUED'])"
      ],
      "metadata": {
        "colab": {
          "base_uri": "https://localhost:8080/"
        },
        "id": "p1zu5BZx9xPK",
        "outputId": "70a57456-297e-413f-f51c-4bc230d34b83"
      },
      "execution_count": 4,
      "outputs": [
        {
          "output_type": "execute_result",
          "data": {
            "text/plain": [
              "0.8754714119924035"
            ]
          },
          "metadata": {},
          "execution_count": 4
        }
      ]
    },
    {
      "cell_type": "code",
      "source": [
        "f['HOMICIDE RATE'].corr(f['average_duration'])"
      ],
      "metadata": {
        "colab": {
          "base_uri": "https://localhost:8080/"
        },
        "id": "nW2zg0cz_CrU",
        "outputId": "4f6880ac-4666-4c1c-ae01-5ff66757e9f2"
      },
      "execution_count": 5,
      "outputs": [
        {
          "output_type": "execute_result",
          "data": {
            "text/plain": [
              "nan"
            ]
          },
          "metadata": {},
          "execution_count": 5
        }
      ]
    },
    {
      "cell_type": "code",
      "source": [
        "from scipy.stats import pearsonr\n"
      ],
      "metadata": {
        "id": "-s8Pt-x7_2ap"
      },
      "execution_count": 6,
      "outputs": []
    },
    {
      "cell_type": "code",
      "source": [
        "pearsonr(f['HOMICIDE RATE'], f['count_ISSUED'])"
      ],
      "metadata": {
        "colab": {
          "base_uri": "https://localhost:8080/"
        },
        "id": "bVS7_S2t_46-",
        "outputId": "709ab79c-741f-4a84-f043-00ab71a131be"
      },
      "execution_count": 7,
      "outputs": [
        {
          "output_type": "execute_result",
          "data": {
            "text/plain": [
              "PearsonRResult(statistic=0.8754714119924034, pvalue=0.02229549844971383)"
            ]
          },
          "metadata": {},
          "execution_count": 7
        }
      ]
    },
    {
      "cell_type": "code",
      "source": [
        "pearsonr(f['HOMICIDE RATE'], f['TOTAL_DAYS'])"
      ],
      "metadata": {
        "colab": {
          "base_uri": "https://localhost:8080/"
        },
        "id": "5hLkTpA8AEf4",
        "outputId": "30deaf3b-939e-4447-ffe6-84a1a7e5af8a"
      },
      "execution_count": 8,
      "outputs": [
        {
          "output_type": "execute_result",
          "data": {
            "text/plain": [
              "PearsonRResult(statistic=0.8754714119924034, pvalue=0.02229549844971383)"
            ]
          },
          "metadata": {},
          "execution_count": 8
        }
      ]
    },
    {
      "cell_type": "code",
      "source": [
        "pearsonr(f['HOMICIDE RATE'], f['average_duration'])"
      ],
      "metadata": {
        "colab": {
          "base_uri": "https://localhost:8080/"
        },
        "id": "_cVX83m1AJwJ",
        "outputId": "e1f436ad-13f8-4714-fec9-c0929fcedcb1"
      },
      "execution_count": 9,
      "outputs": [
        {
          "output_type": "stream",
          "name": "stderr",
          "text": [
            "/usr/local/lib/python3.10/dist-packages/scipy/stats/_stats_py.py:4781: ConstantInputWarning: An input array is constant; the correlation coefficient is not defined.\n",
            "  warnings.warn(stats.ConstantInputWarning(msg))\n"
          ]
        },
        {
          "output_type": "execute_result",
          "data": {
            "text/plain": [
              "PearsonRResult(statistic=nan, pvalue=nan)"
            ]
          },
          "metadata": {},
          "execution_count": 9
        }
      ]
    },
    {
      "cell_type": "code",
      "source": [
        "print(final_result.columns.tolist())"
      ],
      "metadata": {
        "id": "5Mg75FaF-iua",
        "colab": {
          "base_uri": "https://localhost:8080/"
        },
        "outputId": "940b7bbc-d768-4d9e-9659-e387ca189b92"
      },
      "execution_count": 10,
      "outputs": [
        {
          "output_type": "stream",
          "name": "stdout",
          "text": [
            "['count_ISSUED', 'EXPIRED', 'PHENOM', 'SIG', 'num_days', 'TOTAL_DAYS', 'average_duration']\n"
          ]
        }
      ]
    },
    {
      "cell_type": "code",
      "source": [
        "print(df)\n",
        "print(final_result)"
      ],
      "metadata": {
        "colab": {
          "base_uri": "https://localhost:8080/"
        },
        "id": "oQZmbfJCN0-t",
        "outputId": "1f09515a-0032-43d7-ca20-dcc8786d8d45"
      },
      "execution_count": 11,
      "outputs": [
        {
          "output_type": "stream",
          "name": "stdout",
          "text": [
            "                 ISSUED           EXPIRED PHENOM SIG  num_days\n",
            "59     2020-03-17 15:14  2020-03-17 16:00     SV   W         1\n",
            "109    2020-03-18 20:49  2020-03-18 21:15     SV   W         1\n",
            "110    2020-03-18 21:26  2020-03-18 22:00     SV   W         1\n",
            "111    2020-03-18 21:09  2020-03-18 21:30     SV   W         1\n",
            "170    2022-12-19 10:00  2022-12-19 11:00     SV   W         1\n",
            "172    2022-12-19 15:31  2022-12-19 16:20     SV   W         1\n",
            "174    2020-03-28 12:34  2020-03-28 13:30     SV   W         1\n",
            "256    2020-03-17 07:08  2020-03-17 07:50     SV   W         1\n",
            "372    2014-03-29 20:55  2014-03-29 21:30     SV   W         1\n",
            "436    2017-03-01 22:08  2017-03-01 22:45     SV   W         1\n",
            "726    2022-12-19 21:36  2022-12-19 22:00     SV   W         1\n",
            "1056   2019-02-10 07:00  2019-02-10 07:26     SV   W         1\n",
            "1294   2017-10-24 12:27  2017-10-24 13:15     SV   W         1\n",
            "1445   2022-12-20 00:11  2022-12-20 01:00     SV   W         1\n",
            "1558   2017-10-24 13:13  2017-10-24 13:40     SV   W         1\n",
            "1746   2018-02-06 07:52  2018-02-06 08:30     SV   W         1\n",
            "1771   2018-02-06 08:27  2018-02-06 08:45     SV   W         1\n",
            "1845   2018-03-26 22:46  2018-03-26 23:15     SV   W         1\n",
            "1889   2018-02-06 08:52  2018-02-06 09:22     SV   W         1\n",
            "1993   2018-03-26 23:42  2018-03-27 00:15     SV   W         1\n",
            "2166   2017-03-10 03:29  2017-03-10 04:00     SV   W         1\n",
            "2174   2018-03-27 00:04  2018-03-27 00:30     SV   W         1\n",
            "2230   2017-03-10 01:10  2017-03-10 02:00     SV   W         1\n",
            "2313   2018-02-19 03:02  2018-02-19 04:00     SV   W         1\n",
            "2314   2018-02-19 03:57  2018-02-19 04:30     SV   W         1\n",
            "2339   2022-12-20 02:47  2022-12-20 03:30     SV   W         1\n",
            "2496   2022-12-20 02:08  2022-12-20 03:00     SV   W         1\n",
            "2555   2020-03-18 19:53  2020-03-18 20:15     SV   W         1\n",
            "3602   2014-03-29 20:55  2014-03-29 21:23     SV   W         1\n",
            "7955   2017-03-01 22:08  2017-03-01 22:45     SV   W         1\n",
            "8377   2017-03-10 03:29  2017-03-10 04:00     SV   W         1\n",
            "8721   2017-03-10 01:10  2017-03-10 02:00     SV   W         1\n",
            "9112   2017-10-24 13:13  2017-10-24 13:40     SV   W         1\n",
            "9113   2017-10-24 12:27  2017-10-24 13:15     SV   W         1\n",
            "9642   2018-03-26 22:46  2018-03-26 23:15     SV   W         1\n",
            "9809   2018-02-06 08:27  2018-02-06 08:45     SV   W         1\n",
            "10126  2018-02-06 07:52  2018-02-06 08:30     SV   W         1\n",
            "10129  2018-02-06 08:52  2018-02-06 09:22     SV   W         1\n",
            "10217  2018-02-19 03:02  2018-02-19 04:00     SV   W         1\n",
            "10220  2018-02-19 03:57  2018-02-19 04:30     SV   W         1\n",
            "10402  2018-03-26 23:42  2018-03-27 00:15     SV   W         1\n",
            "10407  2018-03-27 00:04  2018-03-27 00:30     SV   W         1\n",
            "12149  2019-02-10 07:00  2019-02-10 07:26     SV   W         1\n",
            "13086  2020-03-18 19:53  2020-03-18 20:15     SV   W         1\n",
            "13284  2020-03-18 20:49  2020-03-18 21:15     SV   W         1\n",
            "13287  2020-03-18 21:09  2020-03-18 21:30     SV   W         1\n",
            "13318  2020-03-28 12:34  2020-03-28 13:30     SV   W         1\n",
            "13680  2020-03-17 15:14  2020-03-17 16:00     SV   W         1\n",
            "13692  2020-03-18 21:26  2020-03-18 22:00     SV   W         1\n",
            "13798  2020-03-17 07:08  2020-03-17 07:50     SV   W         1\n",
            "16008  2022-12-19 21:36  2022-12-19 22:00     SV   W         1\n",
            "17316  2022-12-19 10:00  2022-12-19 11:00     SV   W         1\n",
            "17322  2022-12-19 15:31  2022-12-19 16:20     SV   W         1\n",
            "17327  2022-12-20 00:11  2022-12-20 01:00     SV   W         1\n",
            "17337  2022-12-20 02:08  2022-12-20 03:00     SV   W         1\n",
            "17338  2022-12-20 02:47  2022-12-20 03:30     SV   W         1\n",
            "        count_ISSUED  EXPIRED  PHENOM  SIG  num_days  TOTAL_DAYS  \\\n",
            "ISSUED                                                             \n",
            "2014               2        2       2    2         2           2   \n",
            "2017              10       10      10   10        10          10   \n",
            "2018              16       16      16   16        16          16   \n",
            "2019               2        2       2    2         2           2   \n",
            "2020              14       14      14   14        14          14   \n",
            "2022              12       12      12   12        12          12   \n",
            "\n",
            "        average_duration  \n",
            "ISSUED                    \n",
            "2014                 1.0  \n",
            "2017                 1.0  \n",
            "2018                 1.0  \n",
            "2019                 1.0  \n",
            "2020                 1.0  \n",
            "2022                 1.0  \n"
          ]
        }
      ]
    },
    {
      "cell_type": "code",
      "source": [
        "df = pd.read_csv('CO_wwa_201401010000_202212310000.csv',usecols=['ISSUED', 'EXPIRED', 'SIG', 'PHENOM'])\n",
        "df=df.loc[df['SIG'] == 'W']\n",
        "#change PHENOM for each Pheno. Comment out below line if finding total corelation\n",
        "df=df.loc[df['PHENOM'] == 'EH']\n",
        "#df=df.loc[df['PHENOM'] == 'FF']\n",
        "#df=df.loc[df['PHENOM'] == 'TO']\n",
        "#df=df.loc[df['PHENOM'] == 'SV']\n",
        "df['num_days'] = (pd.to_datetime(df['EXPIRED']) - pd.to_datetime((df['ISSUED']))).dt.days\n",
        "\n",
        "df2 = len(df['num_days'] < -1 )\n",
        "print(\"Num of rows where num_days < 0 is \", df2)\n",
        "print(df)\n",
        "df.to_csv('test.csv')"
      ],
      "metadata": {
        "colab": {
          "base_uri": "https://localhost:8080/"
        },
        "id": "xXczCjhYHzQq",
        "outputId": "a9f4a869-a742-4fa5-c99d-d9c591be1d3d"
      },
      "execution_count": 12,
      "outputs": [
        {
          "output_type": "stream",
          "name": "stdout",
          "text": [
            "Num of rows where num_days < 0 is  2\n",
            "                 ISSUED           EXPIRED PHENOM SIG  num_days\n",
            "49735  2021-06-14 18:00  2021-06-18 22:10     EH   W         4\n",
            "49836  2021-06-14 18:00  2021-06-18 22:10     EH   W         4\n"
          ]
        }
      ]
    }
  ]
}